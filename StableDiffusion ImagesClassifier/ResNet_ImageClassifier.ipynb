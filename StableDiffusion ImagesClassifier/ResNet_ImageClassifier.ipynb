{
 "cells": [
  {
   "cell_type": "code",
   "execution_count": 1,
   "metadata": {
    "id": "2F8NOIUe7O2z"
   },
   "outputs": [],
   "source": [
    "import torch\n",
    "from torch import nn, optim\n",
    "from torchvision import datasets, transforms, models\n",
    "from torch.utils.data import DataLoader\n",
    "import matplotlib.pyplot as plt\n",
    "from sklearn.metrics import classification_report, confusion_matrix\n",
    "import numpy as np\n",
    "import os\n",
    "import json"
   ]
  },
  {
   "cell_type": "code",
   "execution_count": 2,
   "metadata": {
    "id": "XA2toOJH8u83"
   },
   "outputs": [],
   "source": [
    "# Настраиваем трансформатор для изображений\n",
    "\n",
    "transform = transforms.Compose([\n",
    "    transforms.Resize((224, 224)),\n",
    "    transforms.ToTensor(),\n",
    "    transforms.Normalize(mean=[0.485, 0.456, 0.406],\n",
    "                         std=[0.229, 0.224, 0.225])\n",
    "])"
   ]
  },
  {
   "cell_type": "code",
   "execution_count": 14,
   "metadata": {
    "id": "IBS_8zO98zpf"
   },
   "outputs": [],
   "source": [
    "# Указываем директорию хранения файлов, распределенных по папкам(папка = класс)\n",
    "\n",
    "dataset = datasets.ImageFolder(root='dataset', transform=transform)"
   ]
  },
  {
   "cell_type": "code",
   "execution_count": 15,
   "metadata": {
    "id": "Ou4NTcPi_KDB"
   },
   "outputs": [],
   "source": [
    "# Делим данные на тренировочную и валидационную выборки, вручную определив размерность \n",
    "\n",
    "train_size = int(0.8 * len(dataset))\n",
    "val_size = len(dataset) - train_size\n",
    "\n",
    "train_dataset, val_dataset = torch.utils.data.random_split(dataset, [train_size, val_size])"
   ]
  },
  {
   "cell_type": "code",
   "execution_count": 16,
   "metadata": {
    "colab": {
     "base_uri": "https://localhost:8080/"
    },
    "id": "FVPNygeHAUOQ",
    "outputId": "832e7b92-b751-4530-d7bb-59fdb5e60285"
   },
   "outputs": [
    {
     "name": "stdout",
     "output_type": "stream",
     "text": [
      "Классы: ['0.not_erotic', '1.erotic']\n"
     ]
    }
   ],
   "source": [
    "# Загружаем данные\n",
    "\n",
    "train_loader = DataLoader(train_dataset, batch_size=32, shuffle=True)\n",
    "val_loader = DataLoader(val_dataset, batch_size=32, shuffle=False)\n",
    "\n",
    "# Фиксируем имена классов\n",
    "class_names = dataset.classes\n",
    "print(\"Классы:\", class_names)"
   ]
  },
  {
   "cell_type": "code",
   "execution_count": 18,
   "metadata": {
    "id": "UJ1XcLi6BycK"
   },
   "outputs": [],
   "source": [
    "# Загружаем предобученную модель\n",
    "model = models.resnet18(pretrained=True) \n",
    "\n",
    "num_classes = 2                         # Количество классов классификации \n",
    "num_features = model.fc.in_features     # Количество входных признаков последнего слоя\n",
    "\n",
    "# Заменяем последний слой для нашей задачи\n",
    "model.fc = nn.Linear(num_features, num_classes)  "
   ]
  },
  {
   "cell_type": "code",
   "execution_count": 19,
   "metadata": {
    "id": "vfqdxzs3CYNM"
   },
   "outputs": [],
   "source": [
    "# Используем GPU, если есть\n",
    "\n",
    "device = torch.device('cuda' if torch.cuda.is_available() else 'cpu')\n",
    "model = model.to(device)"
   ]
  },
  {
   "cell_type": "code",
   "execution_count": 20,
   "metadata": {
    "id": "t2AI6iy0CzIF"
   },
   "outputs": [],
   "source": [
    "# Обозначаем функцию потерь и оптимизатор\n",
    "\n",
    "criterion = nn.CrossEntropyLoss()\n",
    "optimizer = torch.optim.Adam(model.parameters(), lr=1e-4)"
   ]
  },
  {
   "cell_type": "code",
   "execution_count": 21,
   "metadata": {
    "id": "PSbL38TjC1kn"
   },
   "outputs": [],
   "source": [
    "# Функция обучения для одной эпохи. Фиксируем ошибку и метрику точности\n",
    "\n",
    "def train_epoch(model, dataloader, criterion, optimizer, device):\n",
    "    model.train()\n",
    "    running_loss = 0.0\n",
    "    correct = 0\n",
    "    total = 0\n",
    "\n",
    "    for images, labels in dataloader:\n",
    "        images = images.to(device)\n",
    "        labels = labels.to(device)\n",
    "\n",
    "        optimizer.zero_grad()\n",
    "        outputs = model(images)\n",
    "\n",
    "        loss = criterion(outputs, labels)\n",
    "        loss.backward()\n",
    "        optimizer.step()\n",
    "\n",
    "        running_loss += loss.item() * images.size(0)\n",
    "\n",
    "        _, preds = torch.max(outputs, 1)\n",
    "        correct += (preds == labels).sum().item()\n",
    "        total += labels.size(0)\n",
    "\n",
    "    epoch_loss = running_loss / total\n",
    "    epoch_acc = correct / total\n",
    "    return epoch_loss, epoch_acc\n"
   ]
  },
  {
   "cell_type": "code",
   "execution_count": 22,
   "metadata": {
    "id": "a0X81KDzDCzS"
   },
   "outputs": [],
   "source": [
    "# Честные метрики на валидационной выборке, без обновления весов\n",
    "\n",
    "def validate_epoch(model, dataloader, criterion, device):\n",
    "    model.eval()\n",
    "    running_loss = 0.0\n",
    "    correct = 0\n",
    "    total = 0\n",
    "\n",
    "    with torch.no_grad():\n",
    "        for images, labels in dataloader:\n",
    "            images = images.to(device)\n",
    "            labels = labels.to(device)\n",
    "\n",
    "            outputs = model(images)\n",
    "            loss = criterion(outputs, labels)\n",
    "\n",
    "            running_loss += loss.item() * images.size(0)\n",
    "\n",
    "            _, preds = torch.max(outputs, 1)\n",
    "            correct += (preds == labels).sum().item()\n",
    "            total += labels.size(0)\n",
    "\n",
    "    epoch_loss = running_loss / total\n",
    "    epoch_acc = correct / total\n",
    "    return epoch_loss, epoch_acc\n"
   ]
  },
  {
   "cell_type": "code",
   "execution_count": 23,
   "metadata": {
    "colab": {
     "base_uri": "https://localhost:8080/"
    },
    "id": "HRf0KIegDEgd",
    "outputId": "81139d4b-1c1f-4447-e05c-cb6b133c993f"
   },
   "outputs": [
    {
     "name": "stdout",
     "output_type": "stream",
     "text": [
      "Epoch 1/5:\n",
      "  Train Loss: 0.1370, Train Acc: 0.9411\n",
      "  Val   Loss: 0.0105, Val   Acc: 0.9935\n",
      "  Модель сохранена!\n",
      "Epoch 2/5:\n",
      "  Train Loss: 0.0179, Train Acc: 0.9935\n",
      "  Val   Loss: 0.0055, Val   Acc: 1.0000\n",
      "  Модель сохранена!\n",
      "Epoch 3/5:\n",
      "  Train Loss: 0.0085, Train Acc: 0.9984\n",
      "  Val   Loss: 0.0029, Val   Acc: 1.0000\n",
      "Epoch 4/5:\n",
      "  Train Loss: 0.0042, Train Acc: 0.9984\n",
      "  Val   Loss: 0.0017, Val   Acc: 1.0000\n",
      "Epoch 5/5:\n",
      "  Train Loss: 0.0012, Train Acc: 1.0000\n",
      "  Val   Loss: 0.0043, Val   Acc: 1.0000\n"
     ]
    }
   ],
   "source": [
    "num_epochs = 5      # Количество эпох\n",
    "best_val_acc = 0.0  # Переменная для хранения лучшей метрики\n",
    "\n",
    "for epoch in range(num_epochs): \n",
    "    # Процесс обучения для одной эпохи\n",
    "    train_loss, train_acc = train_epoch(model, train_loader, criterion, optimizer, device)\n",
    "    val_loss, val_acc = validate_epoch(model, val_loader, criterion, device)\n",
    "\n",
    "    print(f\"Epoch {epoch+1}/{num_epochs}:\")\n",
    "    print(f\"  Train Loss: {train_loss:.4f}, Train Acc: {train_acc:.4f}\")\n",
    "    print(f\"  Val   Loss: {val_loss:.4f}, Val   Acc: {val_acc:.4f}\")\n",
    "\n",
    "    # Сохраним лучшую модель\n",
    "    if val_acc > best_val_acc:\n",
    "        best_val_acc = val_acc\n",
    "        torch.save(model.state_dict(), \"best_model.pth\")\n",
    "        print(\"Модель сохранена!\")\n"
   ]
  },
  {
   "cell_type": "code",
   "execution_count": 24,
   "metadata": {
    "colab": {
     "base_uri": "https://localhost:8080/"
    },
    "id": "pYhCL0QRDH6O",
    "outputId": "1875401d-dfab-418e-a61e-bd2368b42d37"
   },
   "outputs": [
    {
     "data": {
      "text/plain": [
       "{'0.not_erotic': 0, '1.erotic': 1}"
      ]
     },
     "execution_count": 24,
     "metadata": {},
     "output_type": "execute_result"
    }
   ],
   "source": [
    "dataset.class_to_idx"
   ]
  },
  {
   "cell_type": "code",
   "execution_count": 25,
   "metadata": {
    "id": "TDBAIeM2JM34"
   },
   "outputs": [],
   "source": [
    "# Сохраним json-файл с соответсвием имен классов и индекса\n",
    "with open(\"class_to_idx.json\", \"w\") as f:\n",
    "    json.dump(dataset.class_to_idx, f)\n"
   ]
  }
 ],
 "metadata": {
  "colab": {
   "provenance": []
  },
  "kernelspec": {
   "display_name": "Python 3 (ipykernel)",
   "language": "python",
   "name": "python3"
  },
  "language_info": {
   "codemirror_mode": {
    "name": "ipython",
    "version": 3
   },
   "file_extension": ".py",
   "mimetype": "text/x-python",
   "name": "python",
   "nbconvert_exporter": "python",
   "pygments_lexer": "ipython3",
   "version": "3.12.4"
  }
 },
 "nbformat": 4,
 "nbformat_minor": 4
}

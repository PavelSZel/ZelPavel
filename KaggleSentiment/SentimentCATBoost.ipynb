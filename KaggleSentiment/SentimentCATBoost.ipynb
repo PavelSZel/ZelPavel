{
 "cells": [
  {
   "cell_type": "code",
   "execution_count": 43,
   "id": "704ac100-253f-4cdb-95d3-ced4f524575b",
   "metadata": {},
   "outputs": [],
   "source": [
    "import pandas as pd \n",
    "from sklearn.metrics import classification_report, f1_score\n",
    "from catboost import CatBoostClassifier, Pool\n",
    "from itertools import product"
   ]
  },
  {
   "cell_type": "code",
   "execution_count": 49,
   "id": "1e2bf905-5bc7-410e-838f-b80f04f6335c",
   "metadata": {},
   "outputs": [],
   "source": [
    "train = pd.read_csv('data/train.csv', usecols=['text', 'sentiment'])\n",
    "test = pd.read_csv('data/valid.csv', usecols=['text', 'sentiment'])"
   ]
  },
  {
   "cell_type": "code",
   "execution_count": 50,
   "id": "d6e5911c-99b3-4de0-a825-ecd0dfe71c21",
   "metadata": {},
   "outputs": [],
   "source": [
    "# Создаем объекты Pool для работы с текстом\n",
    "\n",
    "train_pool = Pool(data=train['text'], label=train['sentiment'], text_features=[0])\n",
    "test_pool = Pool(data=test['text'], text_features=[0])"
   ]
  },
  {
   "cell_type": "code",
   "execution_count": 52,
   "id": "42e8f999-f712-468e-b806-d9d50188c24a",
   "metadata": {},
   "outputs": [],
   "source": [
    "# Словарь для подбора параметров\n",
    "\n",
    "params = {\n",
    "    'learning_rate': [0.01, 0.05, 0.1],\n",
    "    'iterations': [300, 500, 1000],\n",
    "    'depth': [5, 7, 9],\n",
    "    'l2_leaf_reg': [1, 3, 5],\n",
    "    \n",
    "}"
   ]
  },
  {
   "cell_type": "code",
   "execution_count": 54,
   "id": "2bf4ca32-71f4-4f18-9c4f-13b2b6211ecc",
   "metadata": {},
   "outputs": [
    {
     "name": "stdout",
     "output_type": "stream",
     "text": [
      "Score=0.7141 for iterations=300, learning rate=0.01, depth=5, l2 reg=1\n",
      "Score=0.7147 for iterations=300, learning rate=0.01, depth=5, l2 reg=3\n",
      "Score=0.7144 for iterations=300, learning rate=0.01, depth=5, l2 reg=5\n",
      "Score=0.7200 for iterations=300, learning rate=0.01, depth=7, l2 reg=1\n",
      "Score=0.7198 for iterations=300, learning rate=0.01, depth=7, l2 reg=3\n",
      "Score=0.7203 for iterations=300, learning rate=0.01, depth=7, l2 reg=5\n",
      "Score=0.7241 for iterations=300, learning rate=0.01, depth=9, l2 reg=1\n",
      "Score=0.7245 for iterations=300, learning rate=0.01, depth=9, l2 reg=3\n",
      "Score=0.7241 for iterations=300, learning rate=0.01, depth=9, l2 reg=5\n",
      "Score=0.7321 for iterations=300, learning rate=0.05, depth=5, l2 reg=1\n",
      "Score=0.7333 for iterations=300, learning rate=0.05, depth=5, l2 reg=3\n",
      "Score=0.7325 for iterations=300, learning rate=0.05, depth=5, l2 reg=5\n",
      "Score=0.7372 for iterations=300, learning rate=0.05, depth=7, l2 reg=1\n",
      "Score=0.7367 for iterations=300, learning rate=0.05, depth=7, l2 reg=3\n",
      "Score=0.7366 for iterations=300, learning rate=0.05, depth=7, l2 reg=5\n",
      "Score=0.7410 for iterations=300, learning rate=0.05, depth=9, l2 reg=1\n",
      "Score=0.7397 for iterations=300, learning rate=0.05, depth=9, l2 reg=3\n",
      "Score=0.7396 for iterations=300, learning rate=0.05, depth=9, l2 reg=5\n",
      "Score=0.7397 for iterations=300, learning rate=0.1, depth=5, l2 reg=1\n",
      "Score=0.7400 for iterations=300, learning rate=0.1, depth=5, l2 reg=3\n",
      "Score=0.7389 for iterations=300, learning rate=0.1, depth=5, l2 reg=5\n",
      "Score=0.7449 for iterations=300, learning rate=0.1, depth=7, l2 reg=1\n",
      "Score=0.7429 for iterations=300, learning rate=0.1, depth=7, l2 reg=3\n",
      "Score=0.7404 for iterations=300, learning rate=0.1, depth=7, l2 reg=5\n",
      "Score=0.7463 for iterations=300, learning rate=0.1, depth=9, l2 reg=1\n",
      "Score=0.7466 for iterations=300, learning rate=0.1, depth=9, l2 reg=3\n",
      "Score=0.7448 for iterations=300, learning rate=0.1, depth=9, l2 reg=5\n",
      "Score=0.7214 for iterations=500, learning rate=0.01, depth=5, l2 reg=1\n",
      "Score=0.7209 for iterations=500, learning rate=0.01, depth=5, l2 reg=3\n",
      "Score=0.7203 for iterations=500, learning rate=0.01, depth=5, l2 reg=5\n",
      "Score=0.7257 for iterations=500, learning rate=0.01, depth=7, l2 reg=1\n",
      "Score=0.7250 for iterations=500, learning rate=0.01, depth=7, l2 reg=3\n",
      "Score=0.7252 for iterations=500, learning rate=0.01, depth=7, l2 reg=5\n",
      "Score=0.7289 for iterations=500, learning rate=0.01, depth=9, l2 reg=1\n",
      "Score=0.7290 for iterations=500, learning rate=0.01, depth=9, l2 reg=3\n",
      "Score=0.7289 for iterations=500, learning rate=0.01, depth=9, l2 reg=5\n",
      "Score=0.7387 for iterations=500, learning rate=0.05, depth=5, l2 reg=1\n",
      "Score=0.7381 for iterations=500, learning rate=0.05, depth=5, l2 reg=3\n",
      "Score=0.7390 for iterations=500, learning rate=0.05, depth=5, l2 reg=5\n",
      "Score=0.7438 for iterations=500, learning rate=0.05, depth=7, l2 reg=1\n",
      "Score=0.7427 for iterations=500, learning rate=0.05, depth=7, l2 reg=3\n",
      "Score=0.7422 for iterations=500, learning rate=0.05, depth=7, l2 reg=5\n",
      "Score=0.7467 for iterations=500, learning rate=0.05, depth=9, l2 reg=1\n",
      "Score=0.7457 for iterations=500, learning rate=0.05, depth=9, l2 reg=3\n",
      "Score=0.7440 for iterations=500, learning rate=0.05, depth=9, l2 reg=5\n",
      "Score=0.7435 for iterations=500, learning rate=0.1, depth=5, l2 reg=1\n",
      "Score=0.7437 for iterations=500, learning rate=0.1, depth=5, l2 reg=3\n",
      "Score=0.7440 for iterations=500, learning rate=0.1, depth=5, l2 reg=5\n",
      "Score=0.7507 for iterations=500, learning rate=0.1, depth=7, l2 reg=1\n",
      "Score=0.7471 for iterations=500, learning rate=0.1, depth=7, l2 reg=3\n",
      "Score=0.7462 for iterations=500, learning rate=0.1, depth=7, l2 reg=5\n",
      "Score=0.7508 for iterations=500, learning rate=0.1, depth=9, l2 reg=1\n",
      "Score=0.7503 for iterations=500, learning rate=0.1, depth=9, l2 reg=3\n",
      "Score=0.7492 for iterations=500, learning rate=0.1, depth=9, l2 reg=5\n",
      "Score=0.7281 for iterations=1000, learning rate=0.01, depth=5, l2 reg=1\n",
      "Score=0.7284 for iterations=1000, learning rate=0.01, depth=5, l2 reg=3\n",
      "Score=0.7282 for iterations=1000, learning rate=0.01, depth=5, l2 reg=5\n",
      "Score=0.7327 for iterations=1000, learning rate=0.01, depth=7, l2 reg=1\n",
      "Score=0.7328 for iterations=1000, learning rate=0.01, depth=7, l2 reg=3\n",
      "Score=0.7323 for iterations=1000, learning rate=0.01, depth=7, l2 reg=5\n",
      "Score=0.7367 for iterations=1000, learning rate=0.01, depth=9, l2 reg=1\n",
      "Score=0.7367 for iterations=1000, learning rate=0.01, depth=9, l2 reg=3\n",
      "Score=0.7361 for iterations=1000, learning rate=0.01, depth=9, l2 reg=5\n",
      "Score=0.7434 for iterations=1000, learning rate=0.05, depth=5, l2 reg=1\n",
      "Score=0.7449 for iterations=1000, learning rate=0.05, depth=5, l2 reg=3\n",
      "Score=0.7446 for iterations=1000, learning rate=0.05, depth=5, l2 reg=5\n",
      "Score=0.7499 for iterations=1000, learning rate=0.05, depth=7, l2 reg=1\n",
      "Score=0.7486 for iterations=1000, learning rate=0.05, depth=7, l2 reg=3\n",
      "Score=0.7471 for iterations=1000, learning rate=0.05, depth=7, l2 reg=5\n",
      "Score=0.7517 for iterations=1000, learning rate=0.05, depth=9, l2 reg=1\n",
      "Score=0.7517 for iterations=1000, learning rate=0.05, depth=9, l2 reg=3\n",
      "Score=0.7502 for iterations=1000, learning rate=0.05, depth=9, l2 reg=5\n",
      "Score=0.7483 for iterations=1000, learning rate=0.1, depth=5, l2 reg=1\n",
      "Score=0.7479 for iterations=1000, learning rate=0.1, depth=5, l2 reg=3\n",
      "Score=0.7492 for iterations=1000, learning rate=0.1, depth=5, l2 reg=5\n",
      "Score=0.7543 for iterations=1000, learning rate=0.1, depth=7, l2 reg=1\n",
      "Score=0.7537 for iterations=1000, learning rate=0.1, depth=7, l2 reg=3\n",
      "Score=0.7518 for iterations=1000, learning rate=0.1, depth=7, l2 reg=5\n",
      "Score=0.7569 for iterations=1000, learning rate=0.1, depth=9, l2 reg=1\n",
      "Score=0.7574 for iterations=1000, learning rate=0.1, depth=9, l2 reg=3\n",
      "Score=0.7543 for iterations=1000, learning rate=0.1, depth=9, l2 reg=5\n",
      "Best params: {'iterations': 1000, 'learning_rate': 0.1, 'depth': 9, 'l2_reg': 3}\n"
     ]
    }
   ],
   "source": [
    "# Так как GridSearch не поддерживает Pool напрямую, будем подбирать гиперпараметры в цикле \n",
    "\n",
    "best_score = 0\n",
    "best_params = None\n",
    "\n",
    "for iter, lr, depth, l2 in product(\n",
    "    params['iterations'],\n",
    "    params['learning_rate'],\n",
    "    params['depth'],\n",
    "    params['l2_leaf_reg']\n",
    "):\n",
    "    model = CatBoostClassifier(\n",
    "        iterations=iter,\n",
    "        learning_rate=lr,\n",
    "        depth=depth,\n",
    "        l2_leaf_reg=l2,\n",
    "        text_features=[0],\n",
    "        loss_function='MultiClass',\n",
    "        verbose=0\n",
    "    )\n",
    "\n",
    "    model.fit(train_pool)\n",
    "    preds = model.predict(test_pool)\n",
    "    score = f1_score(test['sentiment'], preds, average='weighted')\n",
    "\n",
    "    print(f'Score={score:.4f} for iterations={iter}, learning rate={lr}, depth={depth}, l2 reg={l2}')\n",
    "    \n",
    "    if score > best_score:\n",
    "        best_score = score\n",
    "        best_params = {'iterations': iter, 'learning_rate': lr, 'depth': depth, 'l2_reg': l2}\n",
    "\n",
    "print('Best params:', best_params)"
   ]
  },
  {
   "cell_type": "code",
   "execution_count": 55,
   "id": "ba49b44d-dbec-4f2a-bc1e-84458572ed9c",
   "metadata": {},
   "outputs": [
    {
     "data": {
      "text/plain": [
       "<catboost.core.CatBoostClassifier at 0x29e4699cb00>"
      ]
     },
     "execution_count": 55,
     "metadata": {},
     "output_type": "execute_result"
    }
   ],
   "source": [
    "cat_boost_model = CatBoostClassifier(\n",
    "        iterations=1000,\n",
    "        learning_rate=0.1,\n",
    "        depth=9,\n",
    "        l2_leaf_reg=3,\n",
    "        text_features=[0],\n",
    "        loss_function='MultiClass',\n",
    "        verbose=0)\n",
    "\n",
    "cat_boost_model.fit(train_pool)"
   ]
  },
  {
   "cell_type": "code",
   "execution_count": 57,
   "id": "5fcc370b-22bc-47b2-944f-564487a1dfbf",
   "metadata": {},
   "outputs": [
    {
     "name": "stdout",
     "output_type": "stream",
     "text": [
      "f1-score: 0.7573653851652008\n"
     ]
    }
   ],
   "source": [
    "pred = cat_boost_model.predict(test_pool)\n",
    "print(f'f1-score: {f1_score(test['sentiment'], pred, average='weighted')}')"
   ]
  },
  {
   "cell_type": "code",
   "execution_count": 58,
   "id": "fb12023e-8f35-41d6-8278-b4b8dd4a107b",
   "metadata": {},
   "outputs": [],
   "source": [
    "model.save_model(\"model.cbm\")"
   ]
  }
 ],
 "metadata": {
  "kernelspec": {
   "display_name": "Python 3 (ipykernel)",
   "language": "python",
   "name": "python3"
  },
  "language_info": {
   "codemirror_mode": {
    "name": "ipython",
    "version": 3
   },
   "file_extension": ".py",
   "mimetype": "text/x-python",
   "name": "python",
   "nbconvert_exporter": "python",
   "pygments_lexer": "ipython3",
   "version": "3.12.4"
  }
 },
 "nbformat": 4,
 "nbformat_minor": 5
}
